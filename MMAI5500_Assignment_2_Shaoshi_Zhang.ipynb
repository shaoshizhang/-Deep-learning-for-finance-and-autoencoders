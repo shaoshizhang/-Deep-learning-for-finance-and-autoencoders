{
  "nbformat": 4,
  "nbformat_minor": 0,
  "metadata": {
    "colab": {
      "name": "MMAI5500 Assignment #2 Shaoshi Zhang",
      "provenance": []
    },
    "kernelspec": {
      "name": "python3",
      "display_name": "Python 3"
    },
    "language_info": {
      "name": "python"
    }
  },
  "cells": [
    {
      "cell_type": "code",
      "metadata": {
        "id": "-nE321_1QhDB"
      },
      "source": [
        "import pandas as pd\n",
        "import numpy as np\n",
        "from tensorflow import keras\n",
        "from tensorflow.keras.layers import Activation, Dense, Input\n",
        "from tensorflow.keras.layers import Reshape\n",
        "from tensorflow.keras.models import Model\n",
        "from tensorflow.keras import backend as K\n",
        "from keras import regularizers"
      ],
      "execution_count": 2,
      "outputs": []
    },
    {
      "cell_type": "code",
      "metadata": {
        "id": "GDD-B3ioQtr6"
      },
      "source": [
        "def load_data(fname):\n",
        "    data = pd.read_csv(fname, index_col=0)\n",
        "    X = data.values[:, 2:].astype('float64')\n",
        "    years = data['year']\n",
        "    X_train = X[years < 2020.]\n",
        "    X_valid = X[years == 2020.]\n",
        "    tmp = data.index[data['year'] == 2020.]\n",
        "    tickers = np.array([ticker.rstrip('_2020') for ticker in tmp])\n",
        "    return X_train, X_valid, tickers\n",
        "\n",
        "X_train, X_valid, tickers = load_data('assign2_data.csv')"
      ],
      "execution_count": 3,
      "outputs": []
    },
    {
      "cell_type": "code",
      "metadata": {
        "id": "1r62BVHva8X2"
      },
      "source": [
        "def create_autoencoder(k_reg=0.01):\n",
        "    input_shape = X_train.shape[1]\n",
        "    latent_dim = 5\n",
        "    inputs = Input(shape=input_shape, name='encoder_input')\n",
        "    x = inputs\n",
        "    latent = Dense(latent_dim, activation='relu', kernel_regularizer=regularizers.l2(k_reg))(x)\n",
        "    encoder = Model(inputs, latent, name='encoder')\n",
        "    latent_inputs = Input(shape=(latent_dim,), name='decoder_input')\n",
        "    outputs = Dense(input_shape, activation='sigmoid', kernel_regularizer=regularizers.l2(k_reg))(latent_inputs)\n",
        "    decoder = Model(latent_inputs, outputs, name='decoder')\n",
        "    autoencoder = Model(inputs, decoder(encoder(inputs)), name='autoencoder')\n",
        "    autoencoder.compile(loss='mse', optimizer='adam', metrics=['accuracy'])\n",
        "    return autoencoder"
      ],
      "execution_count": 4,
      "outputs": []
    },
    {
      "cell_type": "code",
      "metadata": {
        "id": "zbsTwMz6cAIn"
      },
      "source": [
        "autoencoder = create_autoencoder()"
      ],
      "execution_count": 5,
      "outputs": []
    },
    {
      "cell_type": "code",
      "metadata": {
        "colab": {
          "base_uri": "https://localhost:8080/"
        },
        "id": "0sZ3IqS8ct7F",
        "outputId": "0cafc490-a574-46a2-b2c0-5452db0ec0f0"
      },
      "source": [
        "autoencoder.summary()"
      ],
      "execution_count": 6,
      "outputs": [
        {
          "output_type": "stream",
          "text": [
            "Model: \"autoencoder\"\n",
            "_________________________________________________________________\n",
            "Layer (type)                 Output Shape              Param #   \n",
            "=================================================================\n",
            "encoder_input (InputLayer)   [(None, 250)]             0         \n",
            "_________________________________________________________________\n",
            "encoder (Functional)         (None, 5)                 1255      \n",
            "_________________________________________________________________\n",
            "decoder (Functional)         (None, 250)               1500      \n",
            "=================================================================\n",
            "Total params: 2,755\n",
            "Trainable params: 2,755\n",
            "Non-trainable params: 0\n",
            "_________________________________________________________________\n"
          ],
          "name": "stdout"
        }
      ]
    },
    {
      "cell_type": "code",
      "metadata": {
        "colab": {
          "base_uri": "https://localhost:8080/"
        },
        "id": "H6X42JXXN9Ci",
        "outputId": "89ee2c32-19a2-4316-b44e-bc527cb38a9e"
      },
      "source": [
        "# Train the autoencoder\n",
        "autoencoder.fit(X_train,\n",
        "                X_train,\n",
        "                validation_data=(X_valid, X_valid),\n",
        "                epochs=50,\n",
        "                batch_size=32)"
      ],
      "execution_count": 7,
      "outputs": [
        {
          "output_type": "stream",
          "text": [
            "Epoch 1/50\n",
            "15/15 [==============================] - 1s 14ms/step - loss: 0.2518 - accuracy: 0.0042 - val_loss: 0.2312 - val_accuracy: 0.0169\n",
            "Epoch 2/50\n",
            "15/15 [==============================] - 0s 3ms/step - loss: 0.2041 - accuracy: 0.0021 - val_loss: 0.1899 - val_accuracy: 0.0254\n",
            "Epoch 3/50\n",
            "15/15 [==============================] - 0s 4ms/step - loss: 0.1675 - accuracy: 0.0021 - val_loss: 0.1588 - val_accuracy: 0.0169\n",
            "Epoch 4/50\n",
            "15/15 [==============================] - 0s 4ms/step - loss: 0.1401 - accuracy: 0.0021 - val_loss: 0.1358 - val_accuracy: 0.0254\n",
            "Epoch 5/50\n",
            "15/15 [==============================] - 0s 5ms/step - loss: 0.1200 - accuracy: 0.0021 - val_loss: 0.1191 - val_accuracy: 0.0254\n",
            "Epoch 6/50\n",
            "15/15 [==============================] - 0s 5ms/step - loss: 0.1054 - accuracy: 0.0042 - val_loss: 0.1070 - val_accuracy: 0.0254\n",
            "Epoch 7/50\n",
            "15/15 [==============================] - 0s 4ms/step - loss: 0.0947 - accuracy: 0.0042 - val_loss: 0.0983 - val_accuracy: 0.0254\n",
            "Epoch 8/50\n",
            "15/15 [==============================] - 0s 5ms/step - loss: 0.0870 - accuracy: 0.0042 - val_loss: 0.0920 - val_accuracy: 0.0169\n",
            "Epoch 9/50\n",
            "15/15 [==============================] - 0s 4ms/step - loss: 0.0815 - accuracy: 0.0042 - val_loss: 0.0874 - val_accuracy: 0.0169\n",
            "Epoch 10/50\n",
            "15/15 [==============================] - 0s 3ms/step - loss: 0.0774 - accuracy: 0.0021 - val_loss: 0.0841 - val_accuracy: 0.0085\n",
            "Epoch 11/50\n",
            "15/15 [==============================] - 0s 4ms/step - loss: 0.0743 - accuracy: 0.0021 - val_loss: 0.0817 - val_accuracy: 0.0085\n",
            "Epoch 12/50\n",
            "15/15 [==============================] - 0s 3ms/step - loss: 0.0720 - accuracy: 0.0021 - val_loss: 0.0798 - val_accuracy: 0.0085\n",
            "Epoch 13/50\n",
            "15/15 [==============================] - 0s 4ms/step - loss: 0.0702 - accuracy: 0.0064 - val_loss: 0.0784 - val_accuracy: 0.0085\n",
            "Epoch 14/50\n",
            "15/15 [==============================] - 0s 4ms/step - loss: 0.0688 - accuracy: 0.0148 - val_loss: 0.0772 - val_accuracy: 0.0000e+00\n",
            "Epoch 15/50\n",
            "15/15 [==============================] - 0s 4ms/step - loss: 0.0676 - accuracy: 0.0148 - val_loss: 0.0762 - val_accuracy: 0.0000e+00\n",
            "Epoch 16/50\n",
            "15/15 [==============================] - 0s 3ms/step - loss: 0.0665 - accuracy: 0.0148 - val_loss: 0.0754 - val_accuracy: 0.0000e+00\n",
            "Epoch 17/50\n",
            "15/15 [==============================] - 0s 3ms/step - loss: 0.0656 - accuracy: 0.0148 - val_loss: 0.0747 - val_accuracy: 0.0000e+00\n",
            "Epoch 18/50\n",
            "15/15 [==============================] - 0s 3ms/step - loss: 0.0648 - accuracy: 0.0148 - val_loss: 0.0740 - val_accuracy: 0.0000e+00\n",
            "Epoch 19/50\n",
            "15/15 [==============================] - 0s 3ms/step - loss: 0.0640 - accuracy: 0.0148 - val_loss: 0.0734 - val_accuracy: 0.0000e+00\n",
            "Epoch 20/50\n",
            "15/15 [==============================] - 0s 3ms/step - loss: 0.0633 - accuracy: 0.0148 - val_loss: 0.0728 - val_accuracy: 0.0000e+00\n",
            "Epoch 21/50\n",
            "15/15 [==============================] - 0s 4ms/step - loss: 0.0626 - accuracy: 0.0148 - val_loss: 0.0723 - val_accuracy: 0.0000e+00\n",
            "Epoch 22/50\n",
            "15/15 [==============================] - 0s 3ms/step - loss: 0.0619 - accuracy: 0.0148 - val_loss: 0.0717 - val_accuracy: 0.0000e+00\n",
            "Epoch 23/50\n",
            "15/15 [==============================] - 0s 4ms/step - loss: 0.0613 - accuracy: 0.0148 - val_loss: 0.0712 - val_accuracy: 0.0000e+00\n",
            "Epoch 24/50\n",
            "15/15 [==============================] - 0s 4ms/step - loss: 0.0607 - accuracy: 0.0148 - val_loss: 0.0708 - val_accuracy: 0.0000e+00\n",
            "Epoch 25/50\n",
            "15/15 [==============================] - 0s 3ms/step - loss: 0.0602 - accuracy: 0.0148 - val_loss: 0.0704 - val_accuracy: 0.0000e+00\n",
            "Epoch 26/50\n",
            "15/15 [==============================] - 0s 5ms/step - loss: 0.0596 - accuracy: 0.0148 - val_loss: 0.0699 - val_accuracy: 0.0000e+00\n",
            "Epoch 27/50\n",
            "15/15 [==============================] - 0s 3ms/step - loss: 0.0591 - accuracy: 0.0148 - val_loss: 0.0695 - val_accuracy: 0.0000e+00\n",
            "Epoch 28/50\n",
            "15/15 [==============================] - 0s 5ms/step - loss: 0.0586 - accuracy: 0.0148 - val_loss: 0.0691 - val_accuracy: 0.0000e+00\n",
            "Epoch 29/50\n",
            "15/15 [==============================] - 0s 4ms/step - loss: 0.0581 - accuracy: 0.0148 - val_loss: 0.0688 - val_accuracy: 0.0000e+00\n",
            "Epoch 30/50\n",
            "15/15 [==============================] - 0s 4ms/step - loss: 0.0576 - accuracy: 0.0148 - val_loss: 0.0684 - val_accuracy: 0.0000e+00\n",
            "Epoch 31/50\n",
            "15/15 [==============================] - 0s 3ms/step - loss: 0.0572 - accuracy: 0.0148 - val_loss: 0.0681 - val_accuracy: 0.0000e+00\n",
            "Epoch 32/50\n",
            "15/15 [==============================] - 0s 4ms/step - loss: 0.0568 - accuracy: 0.0148 - val_loss: 0.0678 - val_accuracy: 0.0000e+00\n",
            "Epoch 33/50\n",
            "15/15 [==============================] - 0s 4ms/step - loss: 0.0564 - accuracy: 0.0148 - val_loss: 0.0675 - val_accuracy: 0.0000e+00\n",
            "Epoch 34/50\n",
            "15/15 [==============================] - 0s 3ms/step - loss: 0.0560 - accuracy: 0.0148 - val_loss: 0.0673 - val_accuracy: 0.0000e+00\n",
            "Epoch 35/50\n",
            "15/15 [==============================] - 0s 5ms/step - loss: 0.0556 - accuracy: 0.0148 - val_loss: 0.0670 - val_accuracy: 0.0000e+00\n",
            "Epoch 36/50\n",
            "15/15 [==============================] - 0s 3ms/step - loss: 0.0553 - accuracy: 0.0148 - val_loss: 0.0667 - val_accuracy: 0.0000e+00\n",
            "Epoch 37/50\n",
            "15/15 [==============================] - 0s 3ms/step - loss: 0.0550 - accuracy: 0.0148 - val_loss: 0.0665 - val_accuracy: 0.0000e+00\n",
            "Epoch 38/50\n",
            "15/15 [==============================] - 0s 3ms/step - loss: 0.0546 - accuracy: 0.0148 - val_loss: 0.0663 - val_accuracy: 0.0000e+00\n",
            "Epoch 39/50\n",
            "15/15 [==============================] - 0s 3ms/step - loss: 0.0543 - accuracy: 0.0148 - val_loss: 0.0661 - val_accuracy: 0.0000e+00\n",
            "Epoch 40/50\n",
            "15/15 [==============================] - 0s 4ms/step - loss: 0.0541 - accuracy: 0.0148 - val_loss: 0.0659 - val_accuracy: 0.0000e+00\n",
            "Epoch 41/50\n",
            "15/15 [==============================] - 0s 3ms/step - loss: 0.0538 - accuracy: 0.0085 - val_loss: 0.0657 - val_accuracy: 0.0000e+00\n",
            "Epoch 42/50\n",
            "15/15 [==============================] - 0s 3ms/step - loss: 0.0535 - accuracy: 0.0064 - val_loss: 0.0656 - val_accuracy: 0.0000e+00\n",
            "Epoch 43/50\n",
            "15/15 [==============================] - 0s 4ms/step - loss: 0.0533 - accuracy: 0.0064 - val_loss: 0.0654 - val_accuracy: 0.0000e+00\n",
            "Epoch 44/50\n",
            "15/15 [==============================] - 0s 3ms/step - loss: 0.0530 - accuracy: 0.0064 - val_loss: 0.0653 - val_accuracy: 0.0000e+00\n",
            "Epoch 45/50\n",
            "15/15 [==============================] - 0s 4ms/step - loss: 0.0528 - accuracy: 0.0064 - val_loss: 0.0651 - val_accuracy: 0.0000e+00\n",
            "Epoch 46/50\n",
            "15/15 [==============================] - 0s 3ms/step - loss: 0.0526 - accuracy: 0.0064 - val_loss: 0.0650 - val_accuracy: 0.0000e+00\n",
            "Epoch 47/50\n",
            "15/15 [==============================] - 0s 3ms/step - loss: 0.0524 - accuracy: 0.0064 - val_loss: 0.0649 - val_accuracy: 0.0000e+00\n",
            "Epoch 48/50\n",
            "15/15 [==============================] - 0s 4ms/step - loss: 0.0522 - accuracy: 0.0064 - val_loss: 0.0647 - val_accuracy: 0.0000e+00\n",
            "Epoch 49/50\n",
            "15/15 [==============================] - 0s 4ms/step - loss: 0.0520 - accuracy: 0.0064 - val_loss: 0.0647 - val_accuracy: 0.0000e+00\n",
            "Epoch 50/50\n",
            "15/15 [==============================] - 0s 3ms/step - loss: 0.0519 - accuracy: 0.0064 - val_loss: 0.0645 - val_accuracy: 0.0000e+00\n"
          ],
          "name": "stdout"
        },
        {
          "output_type": "execute_result",
          "data": {
            "text/plain": [
              "<tensorflow.python.keras.callbacks.History at 0x7f09e1507510>"
            ]
          },
          "metadata": {
            "tags": []
          },
          "execution_count": 7
        }
      ]
    },
    {
      "cell_type": "code",
      "metadata": {
        "colab": {
          "base_uri": "https://localhost:8080/"
        },
        "id": "TlIMSpQ1bD0m",
        "outputId": "e1a80f9f-e12a-485d-c977-444022ea84e9"
      },
      "source": [
        "from sklearn.model_selection import GridSearchCV\n",
        "from keras.wrappers.scikit_learn import KerasClassifier\n",
        "\n",
        "model = KerasClassifier(build_fn=create_autoencoder, epochs=50, batch_size=32, verbose=0)\n",
        "# define the grid search parameters\n",
        "k_reg = [0.0001, 0.001, 0.01, 0.1, 1]\n",
        "param_grid = dict(k_reg=k_reg)\n",
        "grid = GridSearchCV(estimator=model, param_grid=param_grid, n_jobs=-1)\n",
        "grid_result = grid.fit(X_valid, X_valid)\n",
        "# summarize results\n",
        "best_lam = grid_result.best_params_['k_reg']\n",
        "print(\"Best: %f using %s\" % (grid_result.best_score_, grid_result.best_params_))\n"
      ],
      "execution_count": 8,
      "outputs": [
        {
          "output_type": "stream",
          "text": [
            "Best: 0.086957 using {'k_reg': 0.0001}\n"
          ],
          "name": "stdout"
        }
      ]
    },
    {
      "cell_type": "code",
      "metadata": {
        "colab": {
          "base_uri": "https://localhost:8080/"
        },
        "id": "ddqtCg1UhPn0",
        "outputId": "27c348bb-916b-4468-a010-0718baac9d07"
      },
      "source": [
        "best_lam"
      ],
      "execution_count": 9,
      "outputs": [
        {
          "output_type": "execute_result",
          "data": {
            "text/plain": [
              "0.0001"
            ]
          },
          "metadata": {
            "tags": []
          },
          "execution_count": 9
        }
      ]
    },
    {
      "cell_type": "code",
      "metadata": {
        "id": "JTXu1OWEharH"
      },
      "source": [
        "autoencoder = create_autoencoder(best_lam)"
      ],
      "execution_count": 10,
      "outputs": []
    },
    {
      "cell_type": "code",
      "metadata": {
        "id": "-0cN74xCioRm"
      },
      "source": [
        "predict = autoencoder.predict(X_valid)"
      ],
      "execution_count": 11,
      "outputs": []
    },
    {
      "cell_type": "code",
      "metadata": {
        "id": "EhXLg8JUjO5p"
      },
      "source": [
        "from numpy import array\n",
        "from numpy.linalg import norm\n",
        "communiality = array(np.zeros(len(X_valid)))\n",
        "for i in range(len(X_valid)):\n",
        "    communiality[i] = norm(array(X_valid)[i]-predict[i])"
      ],
      "execution_count": 12,
      "outputs": []
    },
    {
      "cell_type": "code",
      "metadata": {
        "colab": {
          "base_uri": "https://localhost:8080/"
        },
        "id": "VzbTOCp8kWb3",
        "outputId": "1363b193-77e4-44af-a8e4-685bebea9716"
      },
      "source": [
        "communiality"
      ],
      "execution_count": 13,
      "outputs": [
        {
          "output_type": "execute_result",
          "data": {
            "text/plain": [
              "array([4.08934191, 6.85171714, 6.68162695, 6.932473  , 3.38658645,\n",
              "       4.8810154 , 5.27149366, 6.26385206, 1.66428906, 1.39023996,\n",
              "       4.62757477, 3.74397924, 5.23273418, 3.51859927, 4.54265336,\n",
              "       2.96440797, 4.1971262 , 2.54323065, 4.02050054, 3.23208702,\n",
              "       6.89016847, 5.45030774, 7.60892143, 5.37338104, 2.46407622,\n",
              "       2.26225311, 7.49627105, 3.58722981, 7.00245641, 7.1921063 ,\n",
              "       5.27958944, 6.48629982, 3.00441172, 4.44087334, 4.03678885,\n",
              "       3.05178923, 1.67888844, 5.38501008, 3.21686141, 1.8051925 ,\n",
              "       3.07419929, 1.93351073, 2.86521631, 2.77046442, 2.14090447,\n",
              "       2.79501226, 3.57026206, 4.26833399, 2.36637164, 6.81906266,\n",
              "       4.08345697, 5.93067145, 5.4431129 , 5.94240759, 4.08199115,\n",
              "       7.62944005, 2.45038694, 7.71955193, 3.45085832, 3.29161738,\n",
              "       6.84598953, 1.34345407, 3.29205816, 4.5167275 , 5.83351524,\n",
              "       4.17229208, 5.69444699, 2.87789061, 5.18945264, 5.8249746 ,\n",
              "       4.59639564, 7.67014338, 7.39881441, 1.26088877, 6.95764443,\n",
              "       3.83788165, 3.90331675, 4.35150513, 7.57468528, 3.89652623,\n",
              "       2.19849156, 7.18146337, 2.79509971, 5.46495009, 3.45333301,\n",
              "       6.79572027, 3.48307704, 3.28121856, 6.42137718, 3.42772048,\n",
              "       1.98771919, 4.26737129, 2.57797028, 2.7849197 , 5.43906442,\n",
              "       2.95121279, 4.42131667, 4.76707353, 3.09353181, 1.44400454,\n",
              "       3.99882862, 7.52180931, 2.84571157, 4.62717425, 7.43241136,\n",
              "       3.47287804, 4.68078374, 3.34552283, 5.82134706, 3.02498447,\n",
              "       4.0241586 , 2.50234892, 6.82049508, 6.31226888, 4.43034224,\n",
              "       3.60217416, 4.70037145, 4.20698758])"
            ]
          },
          "metadata": {
            "tags": []
          },
          "execution_count": 13
        }
      ]
    },
    {
      "cell_type": "code",
      "metadata": {
        "colab": {
          "base_uri": "https://localhost:8080/"
        },
        "id": "rSrYnns1l17s",
        "outputId": "cbe33fa4-b817-41b6-afd2-9dafadc0d542"
      },
      "source": [
        "top_5_idx = np.argsort(communiality)[0:5]\n",
        "top_5_values = [communiality[i] for i in top_5_idx]\n",
        "bottom_20_idx = np.argsort(communiality)[-20:]\n",
        "bottom_20_values = [communiality[i] for i in bottom_20_idx]\n",
        "\n",
        "print(top_5_idx)\n",
        "print(top_5_values)\n",
        "print(bottom_20_idx)\n",
        "print(bottom_20_values)"
      ],
      "execution_count": 17,
      "outputs": [
        {
          "output_type": "stream",
          "text": [
            "[73 61  9 99  8]\n",
            "[1.2608887729765725, 1.3434540731898188, 1.3902399582896636, 1.4440045351686008, 1.664289061352136]\n",
            "[ 85  49 112  60   1  20   3  74  28  81  29  72 104  26 101  78  22  55\n",
            "  71  57]\n",
            "[6.795720265170573, 6.819062658611424, 6.820495079567932, 6.845989530071157, 6.851717143982328, 6.890168474690829, 6.932472995093266, 6.957644428523128, 7.002456409091976, 7.181463373594447, 7.192106299929343, 7.3988144135601, 7.432411361838834, 7.4962710529346, 7.521809308546173, 7.574685281988244, 7.608921432560085, 7.62944004976981, 7.670143383692932, 7.719551927838591]\n"
          ],
          "name": "stdout"
        }
      ]
    },
    {
      "cell_type": "code",
      "metadata": {
        "id": "UoFH_PgLmAqt"
      },
      "source": [
        "Most_communal = tickers[top_5_idx]\n",
        "Least_communal = tickers[bottom_20_idx]"
      ],
      "execution_count": 18,
      "outputs": []
    },
    {
      "cell_type": "code",
      "metadata": {
        "colab": {
          "base_uri": "https://localhost:8080/"
        },
        "id": "lG7GV9Hbm60b",
        "outputId": "7106d437-a383-4df0-87c1-cb13be784a1c"
      },
      "source": [
        "print(\"Most communal:\\n-----------------\")\n",
        "print(Most_communal)\n",
        "print()\n",
        "print(\"Least communal:\\n--------------\")\n",
        "print(Least_communal)\n",
        "print(\"\\n\")"
      ],
      "execution_count": 19,
      "outputs": [
        {
          "output_type": "stream",
          "text": [
            "Most communal:\n",
            "-----------------\n",
            "['IONS' 'PRAH' 'FGEN' 'CARA' 'ILMN']\n",
            "\n",
            "Least communal:\n",
            "--------------\n",
            "['PRTA' 'GLYC' 'PRTK' 'SPPI' 'ALKS' 'DBVT' 'TXMD' 'RDUS' 'LXRX' 'ADMS'\n",
            " 'CRIS' 'CLVS' 'MNKD' 'CMRX' 'ENDP' 'TLGT' 'PBYI' 'CLDX' 'BLCM' 'ACOR']\n",
            "\n",
            "\n"
          ],
          "name": "stdout"
        }
      ]
    },
    {
      "cell_type": "code",
      "metadata": {
        "id": "7wVUdD0JnPuE"
      },
      "source": [
        ""
      ],
      "execution_count": 16,
      "outputs": []
    }
  ]
}